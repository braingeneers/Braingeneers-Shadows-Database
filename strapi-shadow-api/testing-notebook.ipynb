{
 "cells": [
  {
   "cell_type": "markdown",
   "metadata": {},
   "source": [
    "# Testing Strapi API calls\n"
   ]
  },
  {
   "cell_type": "code",
   "execution_count": null,
   "metadata": {},
   "outputs": [],
   "source": [
    "import requests\n",
    "api_url = \"http://localhost:1337/api/interaction-things/1\"\n",
    "response = requests.get(api_url)\n",
    "response.json()"
   ]
  },
  {
   "cell_type": "code",
   "execution_count": null,
   "metadata": {},
   "outputs": [],
   "source": [
    "import requests\n",
    "api_url = \"http://localhost:1337/api/wells/1\"\n",
    "info = {\n",
    "  \"data\": {\n",
    "    \"name\": \"Gioodbyee45\",\n",
    "    \"position_index\": \"fart\",\n",
    "    \"sample\": \"barf\",\n",
    "    \"plate\": 1\n",
    "    }\n",
    "}\n",
    "token = \"63e7b69b04c8f9d9c1c368a10ee586de676e5ae58b970225b4eb4d4ac8a633f141e98c656f296fabb0c1be54b01b23c152d09f41a562f7d6acde3865c3b53e33af5e1fbb4680adf71552f6b8e733e5df460a1c8fa32f42e2ccc26f204198bddc9382dcfe5d1af774465ce706baa6fcda5e0c0b8050f90a74f86dd8cffa1ccecb\"\n",
    "response = requests.put(api_url, json=info, headers={'Authorization': 'bearer ' + token})\n",
    "response.json()\n",
    "\n",
    "\n",
    "response.status_code"
   ]
  },
  {
   "cell_type": "code",
   "execution_count": null,
   "metadata": {},
   "outputs": [],
   "source": [
    "import requests\n",
    "def create_wells_for_plate(plate):\n",
    "api_url = \"http://localhost:1337/api/wells/\"\n",
    "for i in range(1,24):\n",
    "    info = {\n",
    "    \"data\": {\n",
    "        \"name\": str(i),\n",
    "        \"position_index\": str(i),\n",
    "        \"sample\": \"barf\",\n",
    "        \"plate\": 1\n",
    "        # \"relation\": 2,\n",
    "        # \"relations\": [2, 4],\n",
    "        }\n",
    "    }\n",
    "    token = \"63e7b69b04c8f9d9c1c368a10ee586de676e5ae58b970225b4eb4d4ac8a633f141e98c656f296fabb0c1be54b01b23c152d09f41a562f7d6acde3865c3b53e33af5e1fbb4680adf71552f6b8e733e5df460a1c8fa32f42e2ccc26f204198bddc9382dcfe5d1af774465ce706baa6fcda5e0c0b8050f90a74f86dd8cffa1ccecb\"\n",
    "    response = requests.post(api_url, json=info, headers={'Authorization': 'bearer ' + token})\n",
    "    response.json()\n",
    "\n",
    "\n",
    "    print(response.status_code)"
   ]
  }
 ],
 "metadata": {
  "kernelspec": {
   "display_name": "Python 3.9.13 64-bit",
   "language": "python",
   "name": "python3"
  },
  "language_info": {
   "name": "python",
   "version": "3.9.13"
  },
  "orig_nbformat": 4,
  "vscode": {
   "interpreter": {
    "hash": "b0fa6594d8f4cbf19f97940f81e996739fb7646882a419484c72d19e05852a7e"
   }
  }
 },
 "nbformat": 4,
 "nbformat_minor": 2
}
