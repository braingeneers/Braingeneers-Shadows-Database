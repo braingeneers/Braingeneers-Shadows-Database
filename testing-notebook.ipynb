{
 "cells": [
  {
   "cell_type": "markdown",
   "metadata": {},
   "source": [
    "# Testing Strapi API calls\n"
   ]
  },
  {
   "cell_type": "code",
   "execution_count": 6,
   "metadata": {},
   "outputs": [
    {
     "ename": "ImportError",
     "evalue": "attempted relative import with no known parent package",
     "output_type": "error",
     "traceback": [
      "\u001b[0;31m---------------------------------------------------------------------------\u001b[0m",
      "\u001b[0;31mImportError\u001b[0m                               Traceback (most recent call last)",
      "\u001b[1;32m/Users/pierre/Braingeneers/VueJS-Plate-SQL-Viewer/dockerized-strapi-backend/app/testing-notebook.ipynb Cell 2\u001b[0m in \u001b[0;36m<cell line: 5>\u001b[0;34m()\u001b[0m\n\u001b[1;32m      <a href='vscode-notebook-cell:/Users/pierre/Braingeneers/VueJS-Plate-SQL-Viewer/dockerized-strapi-backend/app/testing-notebook.ipynb#W1sZmlsZQ%3D%3D?line=1'>2</a>\u001b[0m \u001b[39mimport\u001b[39;00m \u001b[39msys\u001b[39;00m\n\u001b[1;32m      <a href='vscode-notebook-cell:/Users/pierre/Braingeneers/VueJS-Plate-SQL-Viewer/dockerized-strapi-backend/app/testing-notebook.ipynb#W1sZmlsZQ%3D%3D?line=3'>4</a>\u001b[0m sys\u001b[39m.\u001b[39mpath\u001b[39m.\u001b[39mappend(\u001b[39m\"\u001b[39m\u001b[39m.\u001b[39m\u001b[39m\"\u001b[39m)\n\u001b[0;32m----> <a href='vscode-notebook-cell:/Users/pierre/Braingeneers/VueJS-Plate-SQL-Viewer/dockerized-strapi-backend/app/testing-notebook.ipynb#W1sZmlsZQ%3D%3D?line=4'>5</a>\u001b[0m \u001b[39mfrom\u001b[39;00m \u001b[39m.\u001b[39;00m\u001b[39mcredentials\u001b[39;00m\u001b[39m.\u001b[39;00m\u001b[39mpy\u001b[39;00m \u001b[39mimport\u001b[39;00m API_KEY\n",
      "\u001b[0;31mImportError\u001b[0m: attempted relative import with no known parent package"
     ]
    }
   ],
   "source": [
    "import requests\n",
    "import sys\n",
    "\n",
    "sys.path.append(\".\")\n",
    "from credentials.py import API_KEY\n",
    "\n",
    "# api_url = \"http://localhost:1337/api/interaction-things/1\"\n",
    "# dev token\n",
    "# token = \"63e7b69b04c8f9d9c1c368a10ee586de676e5ae58b970225b4eb4d4ac8a633f141e98c656f296fabb0c1be54b01b23c152d09f41a562f7d6acde3865c3b53e33af5e1fbb4680adf71552f6b8e733e5df460a1c8fa32f42e2ccc26f204198bddc9382dcfe5d1af774465ce706baa6fcda5e0c0b8050f90a74f86dd8cffa1ccecb\"\n",
    "# response = requests.get(api_url)\n",
    "# response.json()\n"
   ]
  },
  {
   "cell_type": "code",
   "execution_count": null,
   "metadata": {},
   "outputs": [],
   "source": [
    "\n",
    "api_url = \"http://localhost:1337/api/wells/1\"\n",
    "info = {\n",
    "  \"data\": {\n",
    "    \"name\": \"Gioodbyee45\",\n",
    "    \"position_index\": \"fart\",\n",
    "    \"sample\": \"barf\",\n",
    "    \"plate\": 1\n",
    "    }\n",
    "}\n",
    "response = requests.put(api_url, json=info, headers={'Authorization': 'bearer ' + token})\n",
    "response.json()\n",
    "\n",
    "\n",
    "response.status_code"
   ]
  },
  {
   "cell_type": "code",
   "execution_count": 6,
   "metadata": {},
   "outputs": [],
   "source": [
    "import time\n",
    "def generate_wells_for_plate(plate_id, token, rows, columns):\n",
    "    api_url = \"http://localhost:1337/api/wells/\"\n",
    "    for i in range(1, rows+1):\n",
    "        for j in range(1, columns+1):\n",
    "            info = {\n",
    "              \"data\": {\n",
    "                \"name\": str(i) + str(j),\n",
    "                \"position_index\": str(i) + str(j),\n",
    "                \"sample\": \"barf\",\n",
    "                \"plate\": plate_id\n",
    "                }\n",
    "            }\n",
    "            response = requests.post(api_url, json=info, headers={'Authorization': 'bearer ' + token})\n",
    "            print(response.status_code)\n",
    "            # print(response.json())\n",
    "    # for i in range(1,24):\n",
    "    #     info = {\n",
    "    #     \"data\": {\n",
    "    #         \"name\": str(i),\n",
    "    #         \"position_index\": str(i),\n",
    "    #         \"sample\": \"barf\",\n",
    "    #         \"plate\": plate_id\n",
    "    #         # \"relation\": 2,\n",
    "    #         # \"relations\": [2, 4],\n",
    "    #         }\n",
    "    #     }\n",
    "        # response = requests.post(api_url, json=info, headers={'Authorization': 'bearer ' + token})\n",
    "        # response.json()\n",
    "\n",
    "\n",
    "        # print(response.status_code)\n",
    "\n",
    "def delete_all_wells(token):\n",
    "    # this is a mess forget about it for now\n",
    "    api_url = \"http://localhost:1337/api/wells?pagination[pageSize]=100\"\n",
    "    response = requests.get(api_url, headers={'Authorization': 'bearer ' + token})\n",
    "    wells = response.json()\n",
    "    num_pages = wells['meta']['pagination']['pageCount']\n",
    "    for well in wells['data']:\n",
    "        # print(well['id'])\n",
    "        api_url = \"http://localhost:1337/api/wells/\" + str(well['id'])\n",
    "        response = requests.delete(api_url, headers={'Authorization': 'bearer ' + token})\n",
    "        print(response.status_code)\n",
    "        # if response.status_code != 200:\n",
    "        #     return\n",
    "        #get next page of wells\n",
    "        # time.sleep(1)\n",
    "        "
   ]
  },
  {
   "cell_type": "code",
   "execution_count": 7,
   "metadata": {},
   "outputs": [
    {
     "name": "stdout",
     "output_type": "stream",
     "text": [
      "200\n",
      "200\n",
      "200\n",
      "200\n",
      "200\n",
      "200\n",
      "200\n",
      "200\n",
      "200\n",
      "200\n",
      "200\n",
      "200\n",
      "200\n",
      "200\n",
      "200\n",
      "200\n",
      "200\n",
      "200\n",
      "200\n",
      "200\n",
      "200\n",
      "200\n",
      "200\n",
      "200\n"
     ]
    }
   ],
   "source": [
    "generate_wells_for_plate(1, token, 4,6)"
   ]
  },
  {
   "cell_type": "code",
   "execution_count": 5,
   "metadata": {},
   "outputs": [],
   "source": [
    "delete_all_wells(token)"
   ]
  },
  {
   "cell_type": "code",
   "execution_count": null,
   "metadata": {},
   "outputs": [],
   "source": []
  }
 ],
 "metadata": {
  "kernelspec": {
   "display_name": "Python 3.9.13 64-bit",
   "language": "python",
   "name": "python3"
  },
  "language_info": {
   "codemirror_mode": {
    "name": "ipython",
    "version": 3
   },
   "file_extension": ".py",
   "mimetype": "text/x-python",
   "name": "python",
   "nbconvert_exporter": "python",
   "pygments_lexer": "ipython3",
   "version": "3.9.13"
  },
  "orig_nbformat": 4,
  "vscode": {
   "interpreter": {
    "hash": "b0fa6594d8f4cbf19f97940f81e996739fb7646882a419484c72d19e05852a7e"
   }
  }
 },
 "nbformat": 4,
 "nbformat_minor": 2
}
