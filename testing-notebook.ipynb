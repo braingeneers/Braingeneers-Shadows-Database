{
 "cells": [
  {
   "cell_type": "markdown",
   "metadata": {},
   "source": [
    "# Testing Strapi API calls\n"
   ]
  },
  {
   "cell_type": "code",
   "execution_count": 1,
   "metadata": {},
   "outputs": [
    {
     "name": "stdout",
     "output_type": "stream",
     "text": [
      "22d6baca9c3fc86e80d29893dbfaeb03ebde5663f3151325700e99ac2cef392679895d8a0e1b3cac18405016f0fd83e3137ed2043f87aba2672c3a992a4ba7d6d5acfe8251c5cca57c905279ec3edb48b41b91e996922fad3f14a01dbc3e153b0b879ef3ae196d430d25be2aff3035e5286cb5e7308acb238e913e839d5f9fca\n"
     ]
    }
   ],
   "source": [
    "import requests\n",
    "import sys\n",
    "\n",
    "sys.path.append(\".\")\n",
    "\n",
    "from credentials import API_KEY\n",
    "endpoint = \"http://braingeneers.gi.ucsc.edu:1337/api\"\n",
    "\n",
    "token = API_KEY\n",
    "# token = \"63e7b69b04c8f9d9c1c368a10ee586de676e5ae58b970225b4eb4d4ac8a633f141e98c656f296fabb0c1be54b01b23c152d09f41a562f7d6acde3865c3b53e33af5e1fbb4680adf71552f6b8e733e5df460a1c8fa32f42e2ccc26f204198bddc9382dcfe5d1af774465ce706baa6fcda5e0c0b8050f90a74f86dd8cffa1ccecb\"\n",
    "print(token)\n"
   ]
  },
  {
   "cell_type": "code",
   "execution_count": null,
   "metadata": {},
   "outputs": [],
   "source": [
    "\n",
    "api_url = endpoint+\"/wells/1\"\n",
    "info = {\n",
    "  \"data\": {\n",
    "    \"name\": \"Gioodbyee45\",\n",
    "    \"position_index\": \"fart\",\n",
    "    \"sample\": \"barf\",\n",
    "    \"plate\": 1\n",
    "    }\n",
    "}\n",
    "response = requests.put(api_url, json=info, headers={'Authorization': 'bearer ' + token})\n",
    "response.json()\n",
    "\n",
    "\n",
    "response.status_code"
   ]
  },
  {
   "cell_type": "code",
   "execution_count": 86,
   "metadata": {},
   "outputs": [],
   "source": [
    "import time\n",
    "\n",
    "\n",
    "def generate_wells_for_plate(plate_id, token, rows, columns):\n",
    "    api_url = endpoint+\"/wells/\"\n",
    "    for i in range(1, rows+1):\n",
    "        for j in range(1, columns+1):\n",
    "            info = {\n",
    "                \"data\": {\n",
    "                    \"name\": str(i) + str(j),\n",
    "                    \"position_index\": str(i) + str(j),\n",
    "                    \"plate\": plate_id\n",
    "                }\n",
    "            }\n",
    "            response = requests.post(api_url, json=info, headers={\n",
    "                                     'Authorization': 'bearer ' + token})\n",
    "            print(response.status_code)\n",
    "            # print(response.json())\n",
    "    # for i in range(1,24):\n",
    "    #     info = {\n",
    "    #     \"data\": {\n",
    "    #         \"name\": str(i),\n",
    "    #         \"position_index\": str(i),\n",
    "    #         \"sample\": \"barf\",\n",
    "    #         \"plate\": plate_id\n",
    "    #         # \"relation\": 2,\n",
    "    #         # \"relations\": [2, 4],\n",
    "    #         }\n",
    "    #     }\n",
    "        # response = requests.post(api_url, json=info, headers={'Authorization': 'bearer ' + token})\n",
    "        # response.json()\n",
    "\n",
    "        # print(response.status_code)\n",
    "\n",
    "\n",
    "def delete_all_wells(token):\n",
    "    # this is a mess forget about it for now\n",
    "    api_url = endpoint+\"/wells?pagination[pageSize]=100\"\n",
    "    response = requests.get(\n",
    "        api_url, headers={'Authorization': 'bearer ' + token})\n",
    "    wells = response.json()\n",
    "    num_pages = wells['meta']['pagination']['pageCount']\n",
    "    for well in wells['data']:\n",
    "        # print(well['id'])\n",
    "        api_url = \"http://localhost:1337/api/wells/\" + str(well['id'])\n",
    "        response = requests.delete(\n",
    "            api_url, headers={'Authorization': 'bearer ' + token})\n",
    "        print(response.status_code)\n",
    "        # if response.status_code != 200:\n",
    "        #     return\n",
    "        # get next page of wells\n",
    "        # time.sleep(1)\n",
    "\n",
    "\n",
    "def create_plate(token, name, rows, columns):\n",
    "    api_url = endpoint+\"/plates/\"\n",
    "    image_params = {\n",
    "        \"images\": True,\n",
    "        \"uuids\": [\n",
    "            \"2022-07-11-i-connectoid-3\",\n",
    "            \"2020-02-07-fluidics-imaging-2\"\n",
    "        ],\n",
    "        \"group_id\": \"C\"\n",
    "    }\n",
    "    info = {\n",
    "        \"data\": {\n",
    "            \"name\": name,\n",
    "            \"rows\": rows,\n",
    "            \"columns\": columns,\n",
    "            \"image_parameters\": image_params\n",
    "        }\n",
    "    }\n",
    "    response = requests.post(api_url, json=info, headers={\n",
    "                             'Authorization': 'bearer ' + token})\n",
    "    print(response.status_code)\n",
    "    print(response.json())\n",
    "    if response.status_code == 200:\n",
    "        generate_wells_for_plate(\n",
    "            response.json()['data']['id'], token, rows, columns)\n",
    "\n",
    "    return response.json()['data']['id']\n",
    "\n",
    "\n",
    "def create_experiment(token, name, description):\n",
    "    api_url = endpoint+\"/experiments/\"\n",
    "    info = {\n",
    "        \"data\": {\n",
    "            \"name\": name,\n",
    "            \"description\": description\n",
    "        }\n",
    "    }\n",
    "    response = requests.post(api_url, json=info, headers={\n",
    "                             'Authorization': 'bearer ' + token})\n",
    "    print(response.status_code)\n",
    "    print(response.json())\n",
    "    return response.json()['data']['id']\n",
    "\n",
    "\n",
    "def add_plate_to_experiment(token, experiment_id, plate_id):\n",
    "    api_url = endpoint+\"/experiments/\"+str(experiment_id)\n",
    "    info = {\n",
    "        \"data\": {\n",
    "            \"plates\": [\"1\" , \"2\", \"5\"]\n",
    "        }\n",
    "    }\n",
    "    response = requests.put(api_url, json=info, headers={\n",
    "        'Authorization': 'bearer ' + token})\n",
    "    print(response.status_code)\n",
    "    print(response.json())\n",
    "\n",
    "\n",
    "def get_experiment(token, experiment_id):\n",
    "    api_url = endpoint+\"/experiments/\"+str(experiment_id)+\"?populate=%2A\"\n",
    "    response = requests.get(api_url, headers={\n",
    "        'Authorization': 'bearer ' + token})\n",
    "    # print(response.status_code)\n",
    "    # print(response.json())\n",
    "    return response.json()\n",
    "\n",
    "def add_plate_to_experiment_without_overwriting(token, experiment_id, plate_id):\n",
    "    experiment = get_experiment(token, experiment_id) \n",
    "    # experiment['data']['attributes']['plates']['data']['id'].append(plate_id) \n",
    "    plates = [] \n",
    "    for i in experiment['data']['attributes']['plates']['data']:\n",
    "        print(i['id'])\n",
    "        plates.append(str(i['id']))\n",
    "    # print(experiment['data']['attributes']['plates']['data'][0]['id'])  \n",
    "    plates.append(str(plate_id)) \n",
    "    api_url = endpoint+\"/experiments/\"+str(experiment_id)\n",
    "    info = {\n",
    "        \"data\": {\n",
    "            \"plates\": plates\n",
    "        }\n",
    "    }\n",
    "    response = requests.put(api_url, json=info, headers={\n",
    "        'Authorization': 'bearer ' + token})\n",
    "        \n",
    "    print(response.status_code)\n",
    "    print(response.json())\n"
   ]
  },
  {
   "cell_type": "code",
   "execution_count": 20,
   "metadata": {},
   "outputs": [
    {
     "name": "stdout",
     "output_type": "stream",
     "text": [
      "401\n",
      "401\n",
      "401\n",
      "401\n",
      "401\n",
      "401\n",
      "401\n",
      "401\n",
      "401\n",
      "401\n",
      "401\n",
      "401\n",
      "401\n",
      "401\n",
      "401\n",
      "401\n",
      "401\n",
      "401\n",
      "401\n",
      "401\n",
      "401\n",
      "401\n",
      "401\n",
      "401\n"
     ]
    }
   ],
   "source": [
    "generate_wells_for_plate(1, token, 4,6)"
   ]
  },
  {
   "cell_type": "code",
   "execution_count": 19,
   "metadata": {},
   "outputs": [
    {
     "ename": "KeyError",
     "evalue": "'meta'",
     "output_type": "error",
     "traceback": [
      "\u001b[0;31m---------------------------------------------------------------------------\u001b[0m",
      "\u001b[0;31mKeyError\u001b[0m                                  Traceback (most recent call last)",
      "\u001b[1;32m/Users/pierre/Braingeneers/VueJS-Plate-SQL-Viewer/dockerized-strapi-backend/app/testing-notebook.ipynb Cell 6\u001b[0m in \u001b[0;36m<cell line: 1>\u001b[0;34m()\u001b[0m\n\u001b[0;32m----> <a href='vscode-notebook-cell:/Users/pierre/Braingeneers/VueJS-Plate-SQL-Viewer/dockerized-strapi-backend/app/testing-notebook.ipynb#W5sZmlsZQ%3D%3D?line=0'>1</a>\u001b[0m delete_all_wells(token)\n",
      "\u001b[1;32m/Users/pierre/Braingeneers/VueJS-Plate-SQL-Viewer/dockerized-strapi-backend/app/testing-notebook.ipynb Cell 6\u001b[0m in \u001b[0;36mdelete_all_wells\u001b[0;34m(token)\u001b[0m\n\u001b[1;32m     <a href='vscode-notebook-cell:/Users/pierre/Braingeneers/VueJS-Plate-SQL-Viewer/dockerized-strapi-backend/app/testing-notebook.ipynb#W5sZmlsZQ%3D%3D?line=35'>36</a>\u001b[0m response \u001b[39m=\u001b[39m requests\u001b[39m.\u001b[39mget(api_url, headers\u001b[39m=\u001b[39m{\u001b[39m'\u001b[39m\u001b[39mAuthorization\u001b[39m\u001b[39m'\u001b[39m: \u001b[39m'\u001b[39m\u001b[39mbearer \u001b[39m\u001b[39m'\u001b[39m \u001b[39m+\u001b[39m token})\n\u001b[1;32m     <a href='vscode-notebook-cell:/Users/pierre/Braingeneers/VueJS-Plate-SQL-Viewer/dockerized-strapi-backend/app/testing-notebook.ipynb#W5sZmlsZQ%3D%3D?line=36'>37</a>\u001b[0m wells \u001b[39m=\u001b[39m response\u001b[39m.\u001b[39mjson()\n\u001b[0;32m---> <a href='vscode-notebook-cell:/Users/pierre/Braingeneers/VueJS-Plate-SQL-Viewer/dockerized-strapi-backend/app/testing-notebook.ipynb#W5sZmlsZQ%3D%3D?line=37'>38</a>\u001b[0m num_pages \u001b[39m=\u001b[39m wells[\u001b[39m'\u001b[39;49m\u001b[39mmeta\u001b[39;49m\u001b[39m'\u001b[39;49m][\u001b[39m'\u001b[39m\u001b[39mpagination\u001b[39m\u001b[39m'\u001b[39m][\u001b[39m'\u001b[39m\u001b[39mpageCount\u001b[39m\u001b[39m'\u001b[39m]\n\u001b[1;32m     <a href='vscode-notebook-cell:/Users/pierre/Braingeneers/VueJS-Plate-SQL-Viewer/dockerized-strapi-backend/app/testing-notebook.ipynb#W5sZmlsZQ%3D%3D?line=38'>39</a>\u001b[0m \u001b[39mfor\u001b[39;00m well \u001b[39min\u001b[39;00m wells[\u001b[39m'\u001b[39m\u001b[39mdata\u001b[39m\u001b[39m'\u001b[39m]:\n\u001b[1;32m     <a href='vscode-notebook-cell:/Users/pierre/Braingeneers/VueJS-Plate-SQL-Viewer/dockerized-strapi-backend/app/testing-notebook.ipynb#W5sZmlsZQ%3D%3D?line=39'>40</a>\u001b[0m     \u001b[39m# print(well['id'])\u001b[39;00m\n\u001b[1;32m     <a href='vscode-notebook-cell:/Users/pierre/Braingeneers/VueJS-Plate-SQL-Viewer/dockerized-strapi-backend/app/testing-notebook.ipynb#W5sZmlsZQ%3D%3D?line=40'>41</a>\u001b[0m     api_url \u001b[39m=\u001b[39m \u001b[39m\"\u001b[39m\u001b[39mhttp://localhost:1337/api/wells/\u001b[39m\u001b[39m\"\u001b[39m \u001b[39m+\u001b[39m \u001b[39mstr\u001b[39m(well[\u001b[39m'\u001b[39m\u001b[39mid\u001b[39m\u001b[39m'\u001b[39m])\n",
      "\u001b[0;31mKeyError\u001b[0m: 'meta'"
     ]
    }
   ],
   "source": [
    "delete_all_wells(token)"
   ]
  },
  {
   "cell_type": "code",
   "execution_count": 9,
   "metadata": {},
   "outputs": [
    {
     "name": "stdout",
     "output_type": "stream",
     "text": [
      "200\n",
      "{'data': {'id': 6, 'attributes': {'name': 'test-plate-4', 'createdAt': '2022-09-21T22:56:39.289Z', 'updatedAt': '2022-09-21T22:56:39.289Z', 'publishedAt': '2022-09-21T22:56:39.285Z', 'wells_index': None, 'description': None, 'image_parameters': {'images': True, 'uuids': ['2022-07-11-i-connectoid-3', '2020-02-07-fluidics-imaging-2'], 'group_id': 'C'}, 'rows': 4, 'columns': 6}}, 'meta': {}}\n",
      "200\n",
      "200\n",
      "200\n",
      "200\n",
      "200\n",
      "200\n",
      "200\n",
      "200\n",
      "200\n",
      "200\n",
      "200\n",
      "200\n",
      "200\n",
      "200\n",
      "200\n",
      "200\n",
      "200\n",
      "200\n",
      "200\n",
      "200\n",
      "200\n",
      "200\n",
      "200\n",
      "200\n"
     ]
    },
    {
     "data": {
      "text/plain": [
       "6"
      ]
     },
     "execution_count": 9,
     "metadata": {},
     "output_type": "execute_result"
    }
   ],
   "source": [
    "create_plate(token, \"test-plate-4\", 4, 6)"
   ]
  },
  {
   "cell_type": "code",
   "execution_count": 11,
   "metadata": {},
   "outputs": [
    {
     "name": "stdout",
     "output_type": "stream",
     "text": [
      "200\n",
      "{'data': {'id': 3, 'attributes': {'name': 'test-experiment-3', 'createdAt': '2022-09-21T23:02:57.113Z', 'updatedAt': '2022-09-21T23:02:57.113Z', 'publishedAt': '2022-09-21T23:02:57.111Z', 'description': 'test experiment description'}}, 'meta': {}}\n"
     ]
    },
    {
     "data": {
      "text/plain": [
       "3"
      ]
     },
     "execution_count": 11,
     "metadata": {},
     "output_type": "execute_result"
    }
   ],
   "source": [
    "create_experiment(token, \"test-experiment-3\", \"test experiment description\")"
   ]
  },
  {
   "cell_type": "code",
   "execution_count": 84,
   "metadata": {},
   "outputs": [
    {
     "name": "stdout",
     "output_type": "stream",
     "text": [
      "200\n",
      "{'data': {'id': 3, 'attributes': {'name': 'test-experiment-3', 'createdAt': '2022-09-21T23:02:57.113Z', 'updatedAt': '2022-09-21T23:36:06.186Z', 'publishedAt': '2022-09-21T23:02:57.111Z', 'description': 'test experiment description'}}, 'meta': {}}\n"
     ]
    }
   ],
   "source": [
    "add_plate_to_experiment(token, 3, 1)"
   ]
  },
  {
   "cell_type": "code",
   "execution_count": 87,
   "metadata": {},
   "outputs": [
    {
     "name": "stdout",
     "output_type": "stream",
     "text": [
      "1\n",
      "2\n",
      "5\n",
      "200\n",
      "{'data': {'id': 3, 'attributes': {'name': 'test-experiment-3', 'createdAt': '2022-09-21T23:02:57.113Z', 'updatedAt': '2022-09-21T23:36:48.371Z', 'publishedAt': '2022-09-21T23:02:57.111Z', 'description': 'test experiment description'}}, 'meta': {}}\n"
     ]
    }
   ],
   "source": [
    "add_plate_to_experiment_without_overwriting(token, 3, 6)"
   ]
  },
  {
   "cell_type": "code",
   "execution_count": null,
   "metadata": {},
   "outputs": [],
   "source": []
  }
 ],
 "metadata": {
  "kernelspec": {
   "display_name": "Python 3.9.13 64-bit",
   "language": "python",
   "name": "python3"
  },
  "language_info": {
   "codemirror_mode": {
    "name": "ipython",
    "version": 3
   },
   "file_extension": ".py",
   "mimetype": "text/x-python",
   "name": "python",
   "nbconvert_exporter": "python",
   "pygments_lexer": "ipython3",
   "version": "3.9.13"
  },
  "orig_nbformat": 4,
  "vscode": {
   "interpreter": {
    "hash": "b0fa6594d8f4cbf19f97940f81e996739fb7646882a419484c72d19e05852a7e"
   }
  }
 },
 "nbformat": 4,
 "nbformat_minor": 2
}
